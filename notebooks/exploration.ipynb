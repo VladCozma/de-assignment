{
 "cells": [
  {
   "cell_type": "code",
   "execution_count": null,
   "id": "ed5e0d9f-f02c-440f-af21-523f87d08e53",
   "metadata": {},
   "outputs": [],
   "source": [
    "# test API endpoints\n",
    "import requests\n",
    "import json\n",
    "from typing import List\n",
    "import pandas as pd\n",
    "import polling\n",
    "import matplotlib\n",
    "import matplotlib.pyplot as plt\n",
    "import seaborn as sns\n",
    "\n",
    "import warnings\n",
    "warnings.filterwarnings('ignore')"
   ]
  },
  {
   "cell_type": "markdown",
   "id": "206c55e0-ecef-49b1-acf6-dbc51105f34a",
   "metadata": {},
   "source": [
    "### Ping test"
   ]
  },
  {
   "cell_type": "code",
   "execution_count": null,
   "id": "d21f8bf8-6868-4809-abb5-623af1e485e9",
   "metadata": {},
   "outputs": [],
   "source": [
    "baseurl = \"http://localhost:8080/\"\n",
    "\n",
    "# Ping url\n",
    "endpoint = \"ping\"\n",
    "\n",
    "url = baseurl + endpoint\n",
    "payload={}\n",
    "files=[]\n",
    "headers = {}\n",
    "\n",
    "response = requests.request(\"GET\", url, headers=headers, data=payload, files=files)\n",
    "\n",
    "print(response.json())"
   ]
  },
  {
   "cell_type": "markdown",
   "id": "1ffaf2b8-3bca-4b25-882d-792b6b3a0ddc",
   "metadata": {},
   "source": [
    "### Get exchanges rates"
   ]
  },
  {
   "cell_type": "code",
   "execution_count": null,
   "id": "5bd9f83f-16c5-4624-aefd-5819956bd0c2",
   "metadata": {},
   "outputs": [],
   "source": [
    "# exchange rates\n",
    "endpoint = \"exchange_rates\"\n",
    "\n",
    "url = baseurl + endpoint\n",
    "payload={}\n",
    "files=[]\n",
    "headers = {}\n",
    "\n",
    "response_exchange_rates = requests.request(\"GET\", url, headers=headers, data=payload, files=files)\n",
    "exchange_rates = pd.DataFrame(json.loads(response_exchange_rates.json()['exchange_rates']))"
   ]
  },
  {
   "cell_type": "markdown",
   "id": "e4df9238-d2ad-4f13-a20c-501eb2835a2e",
   "metadata": {},
   "source": [
    "### Get company info"
   ]
  },
  {
   "cell_type": "code",
   "execution_count": null,
   "id": "01097fee-6a89-4b90-b0a4-ad12c907e199",
   "metadata": {},
   "outputs": [],
   "source": [
    "# company_info\n",
    "endpoint = \"company_info\"\n",
    "\n",
    "url = baseurl + endpoint\n",
    "payload={'companyID': '93614'}\n",
    "files=[]\n",
    "headers = {}\n",
    "\n",
    "response_company_info = requests.request(\"GET\", url, headers=headers, data=payload, files=files)\n",
    "company_info = pd.DataFrame(json.loads(response_company_info.json()[\"company_info\"]))\n"
   ]
  },
  {
   "cell_type": "code",
   "execution_count": null,
   "id": "3412292e-71fd-4e0e-9b08-809e4f1acdc9",
   "metadata": {},
   "outputs": [],
   "source": [
    "json.loads(response_company_info.json()[\"company_info\"])[0]"
   ]
  },
  {
   "cell_type": "markdown",
   "id": "52f1ac72-0fa3-4ebc-b960-5a140d303ed7",
   "metadata": {
    "tags": []
   },
   "source": [
    "### Get SEPA transactions (EUR only)"
   ]
  },
  {
   "cell_type": "code",
   "execution_count": null,
   "id": "ec4acf61-27d2-4a2e-8dc1-967786453710",
   "metadata": {
    "tags": []
   },
   "outputs": [],
   "source": [
    "# sepa\n",
    "endpoint = \"sepa\"\n",
    "\n",
    "url = baseurl + endpoint\n",
    "payload={'companyID': '93614'}\n",
    "files=[]\n",
    "headers = {}\n",
    "sepa_df = pd.DataFrame(columns=['id', 'sender', 'beneficiary', 'amount', 'currency', 'time'])\n",
    "while response_sepa.status_code == 200:\n",
    "    try:\n",
    "        response_sepa = requests.request(\"GET\", url, headers=headers, data=payload, files=files, timeout = 5)\n",
    "    except Exception as e:\n",
    "        print('endpoint depleted')\n",
    "        break\n",
    "    no_rows = response_sepa.text.count(\"}{\") + 1\n",
    "    response_sepa_text = response_sepa.text\n",
    "    for row in range(no_rows):\n",
    "        line_break=response_sepa_text.find(\"}{\")\n",
    "        if line_break == -1:\n",
    "            sepa = json.loads(response_sepa_text)['sepa_transactions']\n",
    "        else:\n",
    "            sepa = json.loads(response_sepa_text[0:line_break+1])['sepa_transactions']\n",
    "        sepa_df = pd.concat([sepa_df, pd.DataFrame(json.loads(sepa))])\n",
    "        response_sepa_text = response_sepa_text[line_break+1:]\n"
   ]
  },
  {
   "cell_type": "code",
   "execution_count": null,
   "id": "747975fb-2747-4b79-882e-3ced608923b3",
   "metadata": {},
   "outputs": [],
   "source": [
    "# sepa_df=pd.read_pickle('sepa.pkl')\n",
    "sepa_df.shape"
   ]
  },
  {
   "cell_type": "markdown",
   "id": "f193ddde-6d1e-459a-9205-a375879a5a85",
   "metadata": {},
   "source": [
    "### Get SWIFT transactions (non EUR)"
   ]
  },
  {
   "cell_type": "code",
   "execution_count": null,
   "id": "af7f1116-5d3a-4d45-8b55-8024c051a193",
   "metadata": {
    "tags": []
   },
   "outputs": [],
   "source": [
    "# swift\n",
    "endpoint = \"swift\"\n",
    "\n",
    "url = baseurl + endpoint\n",
    "payload={'companyID': '93614'}\n",
    "files=[]\n",
    "headers = {}\n",
    "swift_df = pd.DataFrame(columns=['id', 'sender', 'beneficiary', 'amount', 'currency', 'time'])\n",
    "while response_sepa.status_code == 200:\n",
    "    try:\n",
    "        response_swift = requests.request(\"GET\", url, headers=headers, data=payload, files=files, timeout = 5)\n",
    "    except Exception as e:\n",
    "        print('endpoint depleted')\n",
    "        break\n",
    "    no_rows = response_swift.text.count(\"}{\") + 1\n",
    "    response_swift_text = response_swift.text\n",
    "    for row in range(no_rows):\n",
    "        line_break=response_swift_text.find(\"}{\")\n",
    "        if line_break == -1:\n",
    "            swift = json.loads(response_swift_text)['swift_transactions']\n",
    "        else:\n",
    "            swift = json.loads(response_swift_text[0:line_break+1])['swift_transactions']\n",
    "        swift_df = pd.concat([swift_df, pd.DataFrame(json.loads(swift))])\n",
    "        response_swift_text = response_swift_text[line_break+1:]"
   ]
  },
  {
   "cell_type": "code",
   "execution_count": null,
   "id": "257f5079-c294-4dd9-9838-d9c54447b404",
   "metadata": {},
   "outputs": [],
   "source": [
    "swift_df = pd.read_pickle('swift.pkl')\n",
    "swift_df.shape"
   ]
  },
  {
   "cell_type": "markdown",
   "id": "0713c1e7-6af6-415e-bc68-78997d961f25",
   "metadata": {},
   "source": [
    "### a. Assignment goal\n",
    "\n",
    "For the Company, we want to find out:\n",
    "\n",
    "1. Current account(s) Balance.\n",
    "2. Over-Committed Balance / Debt.\n",
    "3. Under-Committed Balance / Credit.\n",
    "4. Countries transacted with.\n",
    "5. Perform Historical Analysis on the data: Solution must have the ability to view the Account Balance of a company on customizable\n",
    "   time intervals, i.e., a user can either select a day, week, month or an entire year for analyzing the client.\n",
    "6. Surprise us."
   ]
  },
  {
   "cell_type": "markdown",
   "id": "bf9fe6d2-18fc-4438-8176-976bd38a98cf",
   "metadata": {},
   "source": [
    "### 1. Current account balance"
   ]
  },
  {
   "cell_type": "code",
   "execution_count": null,
   "id": "d6212757-1659-4abd-94e4-a0100e5ce7cc",
   "metadata": {},
   "outputs": [],
   "source": [
    "companyId = 10\n",
    "target_account = company_info[company_info['companyID'] == companyId]['ibans'].iloc[0].replace(\"{\",\"\").replace(\"}\",\"\")\n",
    "company_name = company_info[company_info['companyID'] == companyId]['name'].iloc[0]\n",
    "# what if multiple accounts\n"
   ]
  },
  {
   "cell_type": "code",
   "execution_count": null,
   "id": "afad7548-68ab-4c8a-b5a7-d438aaa14123",
   "metadata": {},
   "outputs": [],
   "source": [
    "# compute balance\n",
    "\n",
    "account_transactions = pd.DataFrame(columns=['account', 'counterparty', 'date', 'amount', 'drcr', 'currency', 'netAmount'])\n",
    "# net sepa's\n",
    "for i, row in sepa_df.query(f\"sender == '{target_account}' or beneficiary == '{target_account}'\").iterrows():\n",
    "    \n",
    "    if row['sender'] == target_account:\n",
    "        drcr = 'dr'\n",
    "        dc_sign = -1\n",
    "        counterparty = row['beneficiary']\n",
    "\n",
    "    else:\n",
    "        drcr = 'cr'\n",
    "        dc_sign = 1\n",
    "        counterparty = row['sender']\n",
    "    \n",
    "    account_transactions = pd.concat(\n",
    "        [account_transactions,\n",
    "         pd.DataFrame([\n",
    "             {'account':target_account,\n",
    "              'counterparty': counterparty,\n",
    "              'date': row['time'],\n",
    "              'amount': row['amount']['Float'],\n",
    "              'drcr': drcr,\n",
    "              'currency': 'EUR',\n",
    "              'netAmountEUR': row['amount']['Float'] * dc_sign\n",
    "             }\n",
    "         ]\n",
    "         )\n",
    "        ]\n",
    "    )\n",
    "\n",
    "# net swifts\n",
    "for i, row in swift_df.query(f\"sender == '{target_account}' or beneficiary == '{target_account}'\").iterrows():\n",
    "    \n",
    "    if row['sender'] == target_account:\n",
    "        drcr = 'dr'\n",
    "        dc_sign = -1\n",
    "        counterparty = row['beneficiary']\n",
    "    else:\n",
    "        drcr = 'cr'\n",
    "        dc_sign = 1\n",
    "        counterparty = row['sender']\n",
    "    \n",
    "    # calculate EUR amount\n",
    "    amountEUR = float(row['amount']['Float'] * exchange_rates.query(f\"currency == '{row['currency']}'\")['eur_rate'])\n",
    "    \n",
    "    account_transactions = pd.concat(\n",
    "        [account_transactions,\n",
    "         pd.DataFrame([\n",
    "             {'account':target_account,\n",
    "              'counterparty': counterparty,\n",
    "              'date': row['time'],\n",
    "              'amount': row['amount']['Float'],\n",
    "              'drcr': drcr,\n",
    "              'currency': row['currency'],\n",
    "              'netAmountEUR': amountEUR * dc_sign\n",
    "             }\n",
    "         ]\n",
    "         )\n",
    "        ]\n",
    "    )"
   ]
  },
  {
   "cell_type": "code",
   "execution_count": null,
   "id": "5108f9a0-a391-4055-92f4-96be4dc56e50",
   "metadata": {},
   "outputs": [],
   "source": [
    "# End balance\n",
    "# What is the balance in Company Info table? should be removed\n",
    "\n",
    "balance_history = account_transactions.groupby(by=['date']).sum().cumsum()\n",
    "balance_history['sign'] = balance_history['netAmountEUR'] >= 0\n",
    "print(f\"End balance for {company_name} is {round(float(balance_history.sort_values(by='date').tail(1)['netAmountEUR']),2):,.2f} EUR\")\n"
   ]
  },
  {
   "cell_type": "markdown",
   "id": "5824fab1-06f4-48ad-8ee7-0e0bc1627acc",
   "metadata": {},
   "source": [
    "### 2. Over-commited balance"
   ]
  },
  {
   "cell_type": "markdown",
   "id": "669fa188-6097-4986-ba54-a2c13037499c",
   "metadata": {},
   "source": [
    "### 3. Under-commited balance"
   ]
  },
  {
   "cell_type": "markdown",
   "id": "7a1f123b-cf0e-45c5-930a-e5b37ac3be55",
   "metadata": {},
   "source": [
    "### 4. Balance History"
   ]
  },
  {
   "cell_type": "code",
   "execution_count": null,
   "id": "c9941a3d-38fc-492e-8bec-5352639f1a63",
   "metadata": {},
   "outputs": [],
   "source": [
    "# Plot balance history\n",
    "palette = {True:'g', False:'r'} \n",
    "\n",
    "sns.set(rc={\"figure.figsize\":(30, 4)}) #width=3, #height=4\n",
    "g = sns.scatterplot(data=balance_history, hue=\"sign\", x=\"date\", y=\"netAmountEUR\", palette=palette, legend=None)\n",
    "set_thicks = g.set_xticks(range(0,len(balance_history),100))"
   ]
  },
  {
   "cell_type": "markdown",
   "id": "7145b7bb-7ed7-4117-9a5d-3f554804caae",
   "metadata": {},
   "source": [
    "### 4. Accrued interest\n",
    "Giving the fact that Debit rate = 3% and Credit Rate = 1%, calculate the accrued interest"
   ]
  },
  {
   "cell_type": "markdown",
   "id": "16a1d8e9-dc16-46f3-bda4-b4ad9e7a4548",
   "metadata": {},
   "source": [
    "### 5. Countries transacted with"
   ]
  },
  {
   "cell_type": "code",
   "execution_count": null,
   "id": "18996d96-037c-4f72-b54e-6e37b02047bf",
   "metadata": {},
   "outputs": [],
   "source": [
    "account_transactions['counterparty'].str[0:2].unique()"
   ]
  },
  {
   "cell_type": "markdown",
   "id": "57cef5d5-fedd-4ac5-a66f-3f2936bc01c5",
   "metadata": {},
   "source": [
    "### 6. Balance at date"
   ]
  },
  {
   "cell_type": "code",
   "execution_count": null,
   "id": "73f17e65-0daa-4c9e-bac0-eeaa7c12941c",
   "metadata": {},
   "outputs": [],
   "source": [
    "def balance_at_date(balance_history, date = '2018-01-01'):\n",
    "    if date in balance_history.index:\n",
    "        return balance_history.loc[date, 'netAmountEUR']\n",
    "    else:\n",
    "        # find previous balance\n",
    "        for index, row in balance_history.iterrows():\n",
    "            if index <= date:\n",
    "                previous_index = index\n",
    "                continue\n",
    "            else:\n",
    "                return balance_history.loc[previous_index, 'netAmountEUR']\n",
    "                break"
   ]
  },
  {
   "cell_type": "code",
   "execution_count": null,
   "id": "d821ef09-6b8f-41f6-b350-1fd6db20dafe",
   "metadata": {},
   "outputs": [],
   "source": [
    "balance_at_date(balance_history, '2021-10-29')"
   ]
  },
  {
   "cell_type": "code",
   "execution_count": null,
   "id": "b4a70333-8a65-4761-9899-ea33a6b84c48",
   "metadata": {},
   "outputs": [],
   "source": [
    "# Plot balance history\n",
    "palette = {True:'g', False:'r'} \n",
    "\n",
    "sns.set(rc={\"figure.figsize\":(30, 4)}) #width=3, #height=4\n",
    "g = sns.scatterplot(data=balance_history, hue=\"sign\", x=\"date\", y=\"netAmountEUR\", palette=palette, legend=None)\n",
    "set_thicks = g.set_xticks(range(0,len(balance_history),100), rotation=45)"
   ]
  },
  {
   "cell_type": "markdown",
   "id": "c7c3d4ac-c437-4151-a7a8-fe7ad91d75a1",
   "metadata": {},
   "source": [
    "### 7. Predict Balance\n",
    "Obs: timerange smoothing might be needed\n"
   ]
  },
  {
   "cell_type": "code",
   "execution_count": null,
   "id": "3ab4d5ea-a5a7-40e9-aca8-973cabac3aaf",
   "metadata": {},
   "outputs": [],
   "source": [
    "bh = balance_history.copy()\n",
    "bh.index = pd.to_datetime(bh.index, format='%Y-%m-%d')"
   ]
  },
  {
   "cell_type": "code",
   "execution_count": null,
   "id": "c65fcbec-a9a5-4057-997c-131e9b544b2c",
   "metadata": {},
   "outputs": [],
   "source": [
    "train = bh[bh.index < pd.to_datetime(\"2021-06-01\", format='%Y-%m-%d')]\n",
    "test = bh[bh.index > pd.to_datetime(\"2021-06-01\", format='%Y-%m-%d')]"
   ]
  },
  {
   "cell_type": "code",
   "execution_count": null,
   "id": "9ad8b5de-c5e4-4883-9c43-81a6a5a6feda",
   "metadata": {},
   "outputs": [],
   "source": [
    "y = train['netAmountEUR']"
   ]
  },
  {
   "cell_type": "code",
   "execution_count": null,
   "id": "0518b890-2fab-4562-b673-664f2dc2d94a",
   "metadata": {},
   "outputs": [],
   "source": [
    "from statsmodels.tsa.arima.model import ARIMA"
   ]
  },
  {
   "cell_type": "code",
   "execution_count": null,
   "id": "aafedada-eb2e-4fd2-90c3-52a48f7b603f",
   "metadata": {},
   "outputs": [],
   "source": [
    "ARIMAmodel = ARIMA(y, order = (3, 2, 1))\n",
    "ARIMAmodel = ARIMAmodel.fit()\n",
    "\n",
    "y_pred = ARIMAmodel.get_forecast(len(test.index))\n",
    "y_pred_df = y_pred.conf_int(alpha = 0.05) \n",
    "y_pred_df[\"Predictions\"] = ARIMAmodel.predict(start = y_pred_df.index[0], end = y_pred_df.index[-1])\n",
    "y_pred_df.index = test.index\n",
    "y_pred_out = y_pred_df[\"Predictions\"] \n",
    "\n",
    "plt.plot(train['netAmountEUR'], color = \"black\", label=\"Train data\")\n",
    "plt.plot(test['netAmountEUR'], color = \"red\", label=\"Test data\")\n",
    "plt.plot(y_pred_out, color='Yellow', label = 'ARIMA Predictions')\n",
    "plt.ylabel('net Balance')\n",
    "plt.xlabel('Date')\n",
    "plt.xticks(rotation=45)\n",
    "plt.title(\"Train/Test split for Balance History\")\n",
    "plt.legend()\n",
    "plt.show()\n",
    "\n",
    "\n",
    "# import numpy as np\n",
    "# from sklearn.metrics import mean_squared_error\n",
    "\n",
    "# arma_rmse = np.sqrt(mean_squared_error(test[\"BTC-USD\"].values, y_pred_df[\"Predictions\"]))\n",
    "# print(\"RMSE: \",arma_rmse)"
   ]
  },
  {
   "cell_type": "code",
   "execution_count": null,
   "id": "825ec3f2-05da-4378-924a-a691950ce75f",
   "metadata": {},
   "outputs": [],
   "source": []
  }
 ],
 "metadata": {
  "kernelspec": {
   "display_name": "Python 3 (ipykernel)",
   "language": "python",
   "name": "python3"
  },
  "language_info": {
   "codemirror_mode": {
    "name": "ipython",
    "version": 3
   },
   "file_extension": ".py",
   "mimetype": "text/x-python",
   "name": "python",
   "nbconvert_exporter": "python",
   "pygments_lexer": "ipython3",
   "version": "3.9.7"
  }
 },
 "nbformat": 4,
 "nbformat_minor": 5
}
